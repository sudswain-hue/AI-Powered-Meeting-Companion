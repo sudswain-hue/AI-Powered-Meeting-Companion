{
 "cells": [
  {
   "cell_type": "code",
   "execution_count": 3,
   "metadata": {},
   "outputs": [
    {
     "name": "stderr",
     "output_type": "stream",
     "text": [
      "/home/anirudh/.local/lib/python3.10/site-packages/tqdm/auto.py:21: TqdmWarning: IProgress not found. Please update jupyter and ipywidgets. See https://ipywidgets.readthedocs.io/en/stable/user_install.html\n",
      "  from .autonotebook import tqdm as notebook_tqdm\n",
      "2025-04-05 15:07:48.699468: E external/local_xla/xla/stream_executor/cuda/cuda_dnn.cc:9261] Unable to register cuDNN factory: Attempting to register factory for plugin cuDNN when one has already been registered\n",
      "2025-04-05 15:07:48.699516: E external/local_xla/xla/stream_executor/cuda/cuda_fft.cc:607] Unable to register cuFFT factory: Attempting to register factory for plugin cuFFT when one has already been registered\n",
      "2025-04-05 15:07:48.710787: E external/local_xla/xla/stream_executor/cuda/cuda_blas.cc:1515] Unable to register cuBLAS factory: Attempting to register factory for plugin cuBLAS when one has already been registered\n",
      "2025-04-05 15:07:48.748379: I tensorflow/core/platform/cpu_feature_guard.cc:182] This TensorFlow binary is optimized to use available CPU instructions in performance-critical operations.\n",
      "To enable the following instructions: AVX2 FMA, in other operations, rebuild TensorFlow with the appropriate compiler flags.\n",
      "2025-04-05 15:07:49.687438: W tensorflow/compiler/tf2tensorrt/utils/py_utils.cc:38] TF-TRT Warning: Could not find TensorRT\n"
     ]
    }
   ],
   "source": [
    "from transformers import pipeline"
   ]
  },
  {
   "cell_type": "markdown",
   "metadata": {},
   "source": [
    "Languages supported: English, French, German, Spanish, Italian\n",
    "\n",
    "Labels: 1 to 5 stars (but can be mapped approximately to sentiment)\n",
    "\n",
    "1–2 → Negative\n",
    "\n",
    "3 → Neutral\n",
    "\n",
    "4–5 → Positive"
   ]
  },
  {
   "cell_type": "code",
   "execution_count": 24,
   "metadata": {},
   "outputs": [
    {
     "name": "stderr",
     "output_type": "stream",
     "text": [
      "Device set to use cpu\n"
     ]
    },
    {
     "name": "stdout",
     "output_type": "stream",
     "text": [
      "Text: I absolutely loved the experience.\n",
      "Sentiment: positive (Label: 5 stars, Confidence: 0.80)\n",
      "\n",
      "Text: It was okay, nothing special.\n",
      "Sentiment: neutral (Label: 3 stars, Confidence: 0.82)\n",
      "\n",
      "Text: This is the worst thing I've ever bought.\n",
      "Sentiment: negative (Label: 1 star, Confidence: 0.96)\n",
      "\n",
      "Text: Ce produit est fantastique, merci beaucoup !\n",
      "Sentiment: positive (Label: 5 stars, Confidence: 0.86)\n",
      "\n",
      "Text: Ça va, sans plus.\n",
      "Sentiment: neutral (Label: 3 stars, Confidence: 0.69)\n",
      "\n",
      "Text: Je déteste complètement ce service.\n",
      "Sentiment: negative (Label: 1 star, Confidence: 0.71)\n",
      "\n",
      "Text: Este lugar es increíble, volveré pronto.\n",
      "Sentiment: positive (Label: 5 stars, Confidence: 0.79)\n",
      "\n",
      "Text: Está bien, pero nada impresionante.\n",
      "Sentiment: neutral (Label: 3 stars, Confidence: 0.75)\n",
      "\n",
      "Text: No me gustó para nada la comida.\n",
      "Sentiment: negative (Label: 1 star, Confidence: 0.68)\n",
      "\n",
      "Text: Das war ein tolles Erlebnis!\n",
      "Sentiment: positive (Label: 5 stars, Confidence: 0.76)\n",
      "\n",
      "Text: Es war durchschnittlich.\n",
      "Sentiment: neutral (Label: 3 stars, Confidence: 0.63)\n",
      "\n",
      "Text: Ich bin sehr unzufrieden mit dem Ergebnis.\n",
      "Sentiment: negative (Label: 1 star, Confidence: 0.57)\n",
      "\n"
     ]
    }
   ],
   "source": [
    "# Load the sentiment classifier\n",
    "classifier = pipeline(\"sentiment-analysis\", model=\"nlptown/bert-base-multilingual-uncased-sentiment\")\n",
    "\n",
    "# Define the mapping from star labels to sentiment\n",
    "def map_stars_to_sentiment(label):\n",
    "    stars = int(label.split()[0])  # label format: '1 star', '5 stars', etc.\n",
    "    if stars <= 2:\n",
    "        return \"negative\"\n",
    "    elif stars == 3:\n",
    "        return \"neutral\"\n",
    "    else:\n",
    "        return \"positive\"\n",
    "\n",
    "# Test sentences in multiple languages\n",
    "texts = [\n",
    "    # English\n",
    "    \"I absolutely loved the experience.\",\n",
    "    \"It was okay, nothing special.\",\n",
    "    \"This is the worst thing I've ever bought.\",\n",
    "    \n",
    "    # French\n",
    "    \"Ce produit est fantastique, merci beaucoup !\",\n",
    "    \"Ça va, sans plus.\",\n",
    "    \"Je déteste complètement ce service.\",\n",
    "    \n",
    "    # Spanish\n",
    "    \"Este lugar es increíble, volveré pronto.\",\n",
    "    \"Está bien, pero nada impresionante.\",\n",
    "    \"No me gustó para nada la comida.\",\n",
    "    \n",
    "    # German\n",
    "    \"Das war ein tolles Erlebnis!\",\n",
    "    \"Es war durchschnittlich.\",\n",
    "    \"Ich bin sehr unzufrieden mit dem Ergebnis.\"\n",
    "]\n",
    "\n",
    "# Run sentiment classification\n",
    "for text in texts:\n",
    "    result = classifier(text)[0]\n",
    "    sentiment = map_stars_to_sentiment(result[\"label\"])\n",
    "    print(f\"Text: {text}\")\n",
    "    print(f\"Sentiment: {sentiment} (Label: {result['label']}, Confidence: {result['score']:.2f})\\n\")\n"
   ]
  }
 ],
 "metadata": {
  "kernelspec": {
   "display_name": "Python 3",
   "language": "python",
   "name": "python3"
  },
  "language_info": {
   "codemirror_mode": {
    "name": "ipython",
    "version": 3
   },
   "file_extension": ".py",
   "mimetype": "text/x-python",
   "name": "python",
   "nbconvert_exporter": "python",
   "pygments_lexer": "ipython3",
   "version": "3.10.12"
  }
 },
 "nbformat": 4,
 "nbformat_minor": 2
}
